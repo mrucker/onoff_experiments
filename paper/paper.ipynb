{
 "cells": [
  {
   "cell_type": "code",
   "execution_count": 2,
   "id": "8befa2eb",
   "metadata": {},
   "outputs": [],
   "source": [
    "import coba as cb\n",
    "import numpy as np\n",
    "\n",
    "import matplotlib.pyplot as plt\n",
    "import matplotlib.ticker as mtick\n",
    "from matplotlib.container   import ErrorbarContainer\n",
    "from matplotlib.lines       import Line2D\n",
    "from matplotlib.collections import LineCollection\n",
    "\n",
    "c1 = \"#0072B2\"\n",
    "c2 = \"#E69F00\"\n",
    "c3 = \"#009E73\"\n",
    "c4 = \"#56B4E9\"\n",
    "c5 = \"#D55E00\"\n",
    "\n",
    "figsize = (8,6)\n",
    "plt.rc('font',weight='normal',size=16)\n",
    "plt.rcParams['lines.markersize'] = 15\n",
    "plt.rcParams['lines.linewidth'] = 3\n",
    "cb.CobaContext.store['elinewidth'] = 2"
   ]
  },
  {
   "cell_type": "code",
   "execution_count": null,
   "id": "2a6ebd45-a8fe-49e0-a8d0-34c3944a49c9",
   "metadata": {},
   "outputs": [],
   "source": [
    "#WARNING: This takes a very long time to finish. \n",
    "#The numeric argument controls the number of process (i.e., 1)\n",
    "#Run this cell before the offline cell\n",
    "%run run_online.py 1"
   ]
  },
  {
   "cell_type": "code",
   "execution_count": null,
   "id": "2239ffe2-f1e8-49f9-a22e-c74a98a6d25c",
   "metadata": {},
   "outputs": [],
   "source": [
    "#WARNING: This takes a long time to finish, \n",
    "#REMARKS: The numeric argument controls the number of process (i.e., 1)\n",
    "#REMARKS: This should only be run after run_online finishes\n",
    "%run -i run_offline.py 1"
   ]
  },
  {
   "cell_type": "code",
   "execution_count": 2,
   "id": "80459d5a",
   "metadata": {},
   "outputs": [],
   "source": [
    "online_logs = cb.Environments.from_save(\"online.zip\")\n",
    "online      = cb.Result.from_logged_envs(online_logs.batch(8)) \n",
    "offline     = cb.Result.from_file(\"offline.gz\")"
   ]
  },
  {
   "cell_type": "code",
   "execution_count": null,
   "id": "9c247739",
   "metadata": {},
   "outputs": [],
   "source": [
    "plt.figure(figsize=figsize)\n",
    "online.plot_contrast(0,1,l='learner_id',p=['openml_data','openml_task'],x=['openml_data','openml_task'],err=cb.BootstrapCI(.9,cb.mean),labels=['SmoothIGW','CappedIGW'],colors=[c1,c2,c3],out=None)\n",
    "plt.title(\"\", loc='left')\n",
    "plt.xticks([])\n",
    "plt.xlabel('Online Performance On 20 Different Datasets')\n",
    "plt.ylabel('$\\\\Delta$ Loss')\n",
    "\n",
    "line    = Line2D([],[],marker='o',markersize=7, ls=\"none\", color=c1)\n",
    "barline = LineCollection(np.empty((0,0,0)),linewidths=(2))\n",
    "err     = ErrorbarContainer((line, [], [barline]), has_xerr=False, has_yerr=True)\n",
    "handles, labels = plt.gca().get_legend_handles_labels()\n",
    "#plt.legend([err]+handles,['SmoothIGW (0)']+labels,loc='upper left')\n",
    "\n",
    "plt.show()\n",
    "#plt.savefig('online_diff.pdf',format='pdf', bbox_inches=\"tight\")"
   ]
  },
  {
   "cell_type": "code",
   "execution_count": null,
   "id": "b03f37d0",
   "metadata": {},
   "outputs": [],
   "source": [
    "plt.figure(figsize=figsize)\n",
    "offline.plot_contrast((0,None),(1,24),l=['learner_id','k_inf'],p=['openml_data','openml_task'],x=['openml_data','openml_task'],err=cb.BootstrapCI(.9,cb.mean),labels=['SmoothIGW Exhaust','CappedIGW Exhaust'],colors=[c1,c2,c3],out=None)\n",
    "plt.title(\"\", loc='left')\n",
    "plt.xticks([])\n",
    "plt.xlabel('Offline Performance On 20 Different Datasets')\n",
    "plt.ylabel('$\\\\Delta$ loss')\n",
    "plt.legend(loc='upper left',bbox_to_anchor=(-.01,1.02))\n",
    "\n",
    "plt.show()\n",
    "#plt.savefig('offline_diff.pdf',format='pdf', bbox_inches=\"tight\")"
   ]
  },
  {
   "cell_type": "code",
   "execution_count": null,
   "id": "ed7ee224",
   "metadata": {},
   "outputs": [],
   "source": [
    "class prob_none_as_reward:   \n",
    "    def filter(self, interactions):\n",
    "        for interaction in interactions:\n",
    "            new = interaction.copy()\n",
    "            new['reward'] = 100 if new['probability'] is None else 0\n",
    "            yield new\n",
    "            \n",
    "old_exhaust  = cb.Environments([e for e in online_logs if e.params['sampler'] == 'old'])\n",
    "old_none_pct = cb.Result.from_logged_envs(old_exhaust.unbatch().filter(prob_none_as_reward()))\n",
    "\n",
    "plt.figure(figsize=figsize)\n",
    "old_none_pct.plot_learners(out=None,labels=['SmoothIGW'],err=cb.BootstrapCI(.9,cb.mean),colors=[c1])\n",
    "plt.gca().yaxis.set_major_formatter(mtick.PercentFormatter(decimals=0))\n",
    "plt.ylabel('Greedy Frequency')\n",
    "plt.title(\"\", loc='left')\n",
    "plt.legend(loc='lower right')\n",
    "\n",
    "plt.show()\n",
    "#plt.savefig('indicator_freq.pdf',format='pdf', bbox_inches=\"tight\")"
   ]
  },
  {
   "cell_type": "code",
   "execution_count": null,
   "id": "73f06cff-30a4-4c3c-825f-80a9b10f9220",
   "metadata": {},
   "outputs": [],
   "source": [
    "plt.figure(figsize=(6,3.75))\n",
    "\n",
    "online.filter_fin().filter_lrn(learner_id=[1,2,3]).plot_learners(p=['openml_task','openml_data'],x=['openml_task','openml_data'],labels=['24','4','2'],colors=[c2,c3,c1],err='se',out=None)\n",
    "\n",
    "plt.title('',loc='left')\n",
    "plt.xticks([])\n",
    "plt.xlabel('Performance On 20 Different Datasets')\n",
    "\n",
    "handles, labels = plt.gca().get_legend_handles_labels()\n",
    "order = [0,1,2]\n",
    "plt.legend([handles[idx] for idx in order],[labels[idx] for idx in order], ncols=3, handlelength=1, handletextpad=.05, columnspacing=1)\n",
    "\n",
    "plt.show()\n",
    "#plt.savefig('k_online.pdf',format='pdf', bbox_inches=\"tight\")"
   ]
  }
 ],
 "metadata": {
  "kernelspec": {
   "display_name": "Python 3 (ipykernel)",
   "language": "python",
   "name": "python3"
  },
  "language_info": {
   "codemirror_mode": {
    "name": "ipython",
    "version": 3
   },
   "file_extension": ".py",
   "mimetype": "text/x-python",
   "name": "python",
   "nbconvert_exporter": "python",
   "pygments_lexer": "ipython3",
   "version": "3.10.10"
  }
 },
 "nbformat": 4,
 "nbformat_minor": 5
}
