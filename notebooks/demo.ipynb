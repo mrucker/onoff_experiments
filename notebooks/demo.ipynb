{
 "cells": [
  {
   "cell_type": "markdown",
   "id": "ed798388-c907-4905-9e5d-76891490b222",
   "metadata": {},
   "source": [
    "### Install Dependencies"
   ]
  },
  {
   "cell_type": "code",
   "execution_count": 2,
   "id": "f6248e53-5259-4bea-bc6b-0ac9e66fd64c",
   "metadata": {},
   "outputs": [],
   "source": [
    "!pip install torch --quiet --quiet\n",
    "!pip install coba --quiet --quiet\n",
    "!pip install scipy --quiet --quiet\n",
    "!pip install numpy --quiet --quiet\n",
    "!pip install matplotlib --quiet --quiet\n",
    "!pip install transformers --quiet --quiet\n",
    "!pip install xformers --quiet --quiet\n",
    "!pip install einops --quiet --quiet"
   ]
  },
  {
   "cell_type": "code",
   "execution_count": 6,
   "id": "e3151193-cb81-4f02-9b03-3344ba7ffad7",
   "metadata": {},
   "outputs": [],
   "source": [
    "from typing import Callable\n",
    "\n",
    "#TODO: Add click through to definition file\n",
    "from AbstractClasses import RewardPredictor, ReferencePolicy\n",
    "\n",
    "GammaScheduler = Callable[[int],float] #e.g., lambda t: sqrt(t)\n",
    "\n",
    "class AnytimeNormalizedSampler:\n",
    "    pass\n",
    "\n",
    "class CappedIGWLearner:\n",
    "    def __init__(self, gamma_scheduler: GammaScheduler, mu:ReferencePolicy, fhat:RewardPredictor, tau:float, kappa_infty:float=24):\n",
    "        self.gamma_scheduler = gamma_scheduler\n",
    "        self.sampler         = AnytimeNormalizedSampler(tau,mu,kappa_infty)\n",
    "        self.fhat            = fhat\n",
    "        self.t               = 1\n",
    "\n",
    "    @property\n",
    "    def params(self):\n",
    "        return {**self.sampler.params, **self.fhat.params}\n",
    "\n",
    "    def predict(self, contexts):\n",
    "        return self.sampler.sample(contexts, self.fhat, self.gamma(self.t))\n",
    "\n",
    "    def learn(self, contexts, actions, rewards):\n",
    "        self.t += len(contexts)\n",
    "        self.fhat.learn(contexts,actions,rewards)\n"
   ]
  }
 ],
 "metadata": {
  "kernelspec": {
   "display_name": "Python 3 (ipykernel)",
   "language": "python",
   "name": "python3"
  },
  "language_info": {
   "codemirror_mode": {
    "name": "ipython",
    "version": 3
   },
   "file_extension": ".py",
   "mimetype": "text/x-python",
   "name": "python",
   "nbconvert_exporter": "python",
   "pygments_lexer": "ipython3",
   "version": "3.10.0"
  }
 },
 "nbformat": 4,
 "nbformat_minor": 5
}
